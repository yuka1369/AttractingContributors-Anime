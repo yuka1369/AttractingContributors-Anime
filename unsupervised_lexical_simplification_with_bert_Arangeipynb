{
  "nbformat": 4,
  "nbformat_minor": 0,
  "metadata": {
    "colab": {
      "name": "unsupervised_lexical_simplification_with_bert.ipynb のコピー",
      "provenance": [],
      "collapsed_sections": [],
      "include_colab_link": true
    },
    "kernelspec": {
      "name": "python3",
      "display_name": "Python 3"
    }
  },
  "cells": [
    {
      "cell_type": "markdown",
      "metadata": {
        "id": "view-in-github",
        "colab_type": "text"
      },
      "source": [
        "<a href=\"https://colab.research.google.com/github/yuka1369/AttractingContributors-Book/blob/main/unsupervised_lexical_simplification_with_bert_Arangeipynb\" target=\"_parent\"><img src=\"https://colab.research.google.com/assets/colab-badge.svg\" alt=\"Open In Colab\"/></a>"
      ]
    },
    {
      "cell_type": "markdown",
      "metadata": {
        "id": "7pWD5xb4L_JV"
      },
      "source": [
        "# Unsupervised Lexical Simplification with BERT\n",
        "## Overview\n",
        "Lexical simplification aims to replace complex words in a given sentence with their simpler alternatives whlie preserve meaning.  This notebook performs lexical simplification with BERT following \"*A Simple BERT-Based Approach for Lexical Simplification*\" [1]. The proposed method is a very simple, but effective.   \n",
        "\n"
      ]
    },
    {
      "cell_type": "markdown",
      "metadata": {
        "id": "e1SFYlc3QsTw"
      },
      "source": [
        "## Settings"
      ]
    },
    {
      "cell_type": "code",
      "metadata": {
        "id": "vhYTBzUDQp8X",
        "colab": {
          "base_uri": "https://localhost:8080/"
        },
        "outputId": "c9231f1b-4de0-4a21-e272-aadbd19ffb45"
      },
      "source": [
        "#@title Setup environment\n",
        "!pip install --quiet pytorch-transformers\n",
        "!pip install --quiet pytorch-nlp\n",
        "!pip install --quiet tqdm"
      ],
      "execution_count": null,
      "outputs": [
        {
          "output_type": "stream",
          "name": "stdout",
          "text": [
            "\u001b[K     |████████████████████████████████| 176 kB 7.3 MB/s \n",
            "\u001b[K     |████████████████████████████████| 132 kB 48.4 MB/s \n",
            "\u001b[K     |████████████████████████████████| 1.2 MB 54.3 MB/s \n",
            "\u001b[K     |████████████████████████████████| 895 kB 57.5 MB/s \n",
            "\u001b[K     |████████████████████████████████| 8.6 MB 18.1 MB/s \n",
            "\u001b[K     |████████████████████████████████| 79 kB 2.9 MB/s \n",
            "\u001b[K     |████████████████████████████████| 138 kB 39.4 MB/s \n",
            "\u001b[K     |████████████████████████████████| 127 kB 48.8 MB/s \n",
            "\u001b[31mERROR: pip's dependency resolver does not currently take into account all the packages that are installed. This behaviour is the source of the following dependency conflicts.\n",
            "datascience 0.10.6 requires folium==0.2.1, but you have folium 0.8.3 which is incompatible.\u001b[0m\n",
            "\u001b[K     |████████████████████████████████| 90 kB 286 kB/s \n",
            "\u001b[?25h"
          ]
        }
      ]
    },
    {
      "cell_type": "code",
      "metadata": {
        "id": "kMCjFnONQvPR"
      },
      "source": [
        "#@title Setup common imports\n",
        "from collections import Counter\n",
        "from tqdm import tqdm\n",
        "import numpy as np\n",
        "import torch\n",
        "from pytorch_transformers import (\n",
        "    BertTokenizer,\n",
        "    BertForMaskedLM,\n",
        ")\n",
        "\n",
        "import matplotlib.pyplot as plt\n",
        "% matplotlib inline"
      ],
      "execution_count": null,
      "outputs": []
    },
    {
      "cell_type": "markdown",
      "metadata": {
        "id": "A90nF_ctPVy_"
      },
      "source": [
        "## Substitution Generation\n",
        "We obtain substitution candidate...\n",
        "<!-- Figure: The model architechture -->\n",
        "\n"
      ]
    },
    {
      "cell_type": "code",
      "metadata": {
        "id": "Ape_pX4ARUKT",
        "colab": {
          "base_uri": "https://localhost:8080/"
        },
        "outputId": "34e08693-7e68-4c97-f482-071a6e26033b"
      },
      "source": [
        "# Build model\n",
        "tokenizer = BertTokenizer.from_pretrained('bert-base-uncased')\n",
        "model = BertForMaskedLM.from_pretrained('bert-base-uncased')"
      ],
      "execution_count": null,
      "outputs": [
        {
          "output_type": "stream",
          "name": "stderr",
          "text": [
            "100%|██████████| 231508/231508 [00:00<00:00, 949352.60B/s]\n",
            "100%|██████████| 433/433 [00:00<00:00, 205004.36B/s]\n",
            "100%|██████████| 440473133/440473133 [00:18<00:00, 23965929.29B/s]\n"
          ]
        }
      ]
    },
    {
      "cell_type": "code",
      "metadata": {
        "id": "3P-4wiBxPX7S"
      },
      "source": [
        "# Model's input\n",
        "#text = \"[CLS] the cat perched on the mat [SEP] the cat perched on the mat [SEP]\"\n",
        "\n",
        "#text = \"[CLS] the man researches about NMT [SEP]  the man researches about NMT [SEP]\"\n",
        "#text = \"[CLS] BLUE is a well-known evaluation method for translation studies. [SEP]  BLUE is a well-known evaluation method for translation studies. [SEP]\"\n",
        "#text = \"[CLS] transformer is a well-known method for translation studies [SEP]  transformer is a well-known method for translation studies [SEP]\"\n",
        "text = \"[CLS] the man researches about transform [SEP]  the man researches about transform [SEP]\"\n",
        "\n",
        "masked_idx = 11\n",
        "#masked_idx = 10\n"
      ],
      "execution_count": null,
      "outputs": []
    },
    {
      "cell_type": "code",
      "metadata": {
        "id": "gWo9CFXIRzmw",
        "colab": {
          "base_uri": "https://localhost:8080/"
        },
        "outputId": "e9eab4db-acba-4698-cd23-7b16e7eaf525"
      },
      "source": [
        "# Tokenize a text\n",
        "tokenized_text = tokenizer.tokenize(text)\n",
        "\n",
        "print(tokenized_text)\n",
        "\n",
        "# Mask a complex token which should be substituted\n",
        "complex_word = tokenized_text[masked_idx]\n",
        "tokenized_text[masked_idx] = '[MASK]'\n",
        "\n",
        "# Convert inputs to PyTorch tensors\n",
        "tokens_ids = tokenizer.convert_tokens_to_ids(tokenized_text)\n",
        "#segments_ids = [0, 0, 0, 0, 0, 0, 0, 0, 1, 1, 1, 1, 1, 1, 1]\n",
        "segments_ids = [0, 0, 0, 0, 0, 0, 0, 1, 1, 1, 1, 1, 1]\n",
        "#segments_ids = [0, 0, 0, 0, 0, 0, 0, 0, 0, 0, 0, 0,  0, 1, 1, 1, 1, 1, 1,1, 1, 1, 1, 1, 1]\n",
        "tokens_tensor = torch.tensor([tokens_ids])\n",
        "segments_tensors = torch.tensor([segments_ids])"
      ],
      "execution_count": null,
      "outputs": [
        {
          "output_type": "stream",
          "name": "stdout",
          "text": [
            "['[CLS]', 'the', 'man', 'researches', 'about', 'transform', '[SEP]', 'the', 'man', 'researches', 'about', 'transform', '[SEP]']\n"
          ]
        }
      ]
    },
    {
      "cell_type": "code",
      "metadata": {
        "id": "QsyoSBm3SEJi"
      },
      "source": [
        "# Predict a masked token\n",
        "model.eval()\n",
        "if torch.cuda.is_available():\n",
        "    tokens_tensor = tokens_tensor.to('cuda')\n",
        "    segments_tensors = segments_tensors.to('cuda')\n",
        "    model.to('cuda')\n",
        "with torch.no_grad():\n",
        "    outputs = model(tokens_tensor, token_type_ids=segments_tensors)\n",
        "    predictions = outputs[0]"
      ],
      "execution_count": null,
      "outputs": []
    },
    {
      "cell_type": "code",
      "metadata": {
        "id": "lSueDInYSSXO",
        "colab": {
          "base_uri": "https://localhost:8080/",
          "height": 459
        },
        "outputId": "cc18f97e-1ed7-4534-95e5-22c07b453cd6"
      },
      "source": [
        "# Output top 10 of candidates\n",
        "#topk_score, topk_index = torch.topk(predictions[0, masked_idx], 10)\n",
        "topk_score, topk_index = torch.topk(predictions[0, masked_idx], 20)\n",
        "topk_tokens = tokenizer.convert_ids_to_tokens(topk_index.tolist())\n",
        "print(f'Input: {\" \".join(tokenized_text)}')\n",
        "print(f'Top10: {topk_tokens}')\n",
        "\n",
        "# Visualize output probabilities\n",
        "plt.bar(topk_tokens, torch.softmax(topk_score, 0).tolist())\n",
        "plt.xticks(rotation=70)\n",
        "plt.ylabel('Probability')\n",
        "plt.show()"
      ],
      "execution_count": null,
      "outputs": [
        {
          "output_type": "stream",
          "name": "stdout",
          "text": [
            "Input: [CLS] the man researches about transform [SEP] the man researches about [MASK] [SEP]\n",
            "Top10: ['.', ';', '?', '!', '|', '...', ':', 'and', ',', '।', '-', '[UNK]', 'you', '/', '॥', 'it', 'me', 'the', \"'\", 'that']\n"
          ]
        },
        {
          "output_type": "stream",
          "name": "stderr",
          "text": [
            "/usr/local/lib/python3.7/dist-packages/matplotlib/backends/backend_agg.py:214: RuntimeWarning: Glyph 2404 missing from current font.\n",
            "  font.set_text(s, 0.0, flags=flags)\n",
            "/usr/local/lib/python3.7/dist-packages/matplotlib/backends/backend_agg.py:214: RuntimeWarning: Glyph 2405 missing from current font.\n",
            "  font.set_text(s, 0.0, flags=flags)\n",
            "/usr/local/lib/python3.7/dist-packages/matplotlib/backends/backend_agg.py:183: RuntimeWarning: Glyph 2404 missing from current font.\n",
            "  font.set_text(s, 0, flags=flags)\n",
            "/usr/local/lib/python3.7/dist-packages/matplotlib/backends/backend_agg.py:183: RuntimeWarning: Glyph 2405 missing from current font.\n",
            "  font.set_text(s, 0, flags=flags)\n"
          ]
        },
        {
          "output_type": "display_data",
          "data": {
            "text/plain": [
              "<Figure size 432x288 with 1 Axes>"
            ],
            "image/png": "[encoded data removed]"
          },
          "metadata": {
            "needs_background": "light"
          }
        }
      ]
    },
    {
      "cell_type": "markdown",
      "metadata": {
        "id": "FVPajT4APaA1"
      },
      "source": [
        "## Substitution Ranking\n",
        "Previous section, we obtained subsitution candidates of a complex word \"*perched*\".  \n",
        "In this section, we rank substitution candidates by following four features:\n",
        "\n",
        "- Probability of BERT prediction;\n",
        "- Probability of n-gram language model;\n",
        "- Similarity obtained by FastText;\n",
        "- Word frequency;\n",
        "\n",
        "We choose the top of candidate with the highest average rank over all features as the simplification replacement.\n",
        "\n",
        "In this notebook, we use only a **probabitity of BERT predicaiton** and a **word frequency** for ranking step."
      ]
    },
    {
      "cell_type": "code",
      "metadata": {
        "id": "8BNPz8jrUysR",
        "colab": {
          "base_uri": "https://localhost:8080/"
        },
        "outputId": "9f007ec6-d25b-4264-c8a3-f1bd6e469ca3"
      },
      "source": [
        "#@title Download the Children's Book Test (CBT)\n",
        "!wget http://www.thespermwhale.com/jaseweston/babi/CBTest.tgz\n",
        "!tar -xzf ./CBTest.tgz\n",
        "!DATA_PATH=./CBTest/data; cat ${DATA_PATH}/cbt_train.txt ${DATA_PATH}/cbt_valid.txt ${DATA_PATH}/cbt_test.txt > ./cbt_all.txt\n",
        "!wc ./cbt_all.txt"
      ],
      "execution_count": null,
      "outputs": [
        {
          "output_type": "stream",
          "name": "stdout",
          "text": [
            "--2022-03-15 08:59:04--  http://www.thespermwhale.com/jaseweston/babi/CBTest.tgz\n",
            "Resolving www.thespermwhale.com (www.thespermwhale.com)... 50.31.160.191\n",
            "Connecting to www.thespermwhale.com (www.thespermwhale.com)|50.31.160.191|:80... connected.\n",
            "HTTP request sent, awaiting response... 200 OK\n",
            "Length: 120547669 (115M) [application/x-tar]\n",
            "Saving to: ‘CBTest.tgz’\n",
            "\n",
            "CBTest.tgz          100%[===================>] 114.96M  11.2MB/s    in 11s     \n",
            "\n",
            "2022-03-15 08:59:15 (10.9 MB/s) - ‘CBTest.tgz’ saved [120547669/120547669]\n",
            "\n",
            "tar: Ignoring unknown extended header keyword 'LIBARCHIVE.creationtime'\n",
            "tar: Ignoring unknown extended header keyword 'SCHILY.dev'\n",
            "tar: Ignoring unknown extended header keyword 'SCHILY.ino'\n",
            "tar: Ignoring unknown extended header keyword 'SCHILY.nlink'\n",
            "tar: Ignoring unknown extended header keyword 'SCHILY.dev'\n",
            "tar: Ignoring unknown extended header keyword 'SCHILY.ino'\n",
            "tar: Ignoring unknown extended header keyword 'SCHILY.nlink'\n",
            "tar: Ignoring unknown extended header keyword 'SCHILY.dev'\n",
            "tar: Ignoring unknown extended header keyword 'SCHILY.ino'\n",
            "tar: Ignoring unknown extended header keyword 'SCHILY.nlink'\n",
            "tar: Ignoring unknown extended header keyword 'LIBARCHIVE.creationtime'\n",
            "tar: Ignoring unknown extended header keyword 'SCHILY.dev'\n",
            "tar: Ignoring unknown extended header keyword 'SCHILY.ino'\n",
            "tar: Ignoring unknown extended header keyword 'SCHILY.nlink'\n",
            "tar: Ignoring unknown extended header keyword 'SCHILY.dev'\n",
            "tar: Ignoring unknown extended header keyword 'SCHILY.ino'\n",
            "tar: Ignoring unknown extended header keyword 'SCHILY.nlink'\n",
            "tar: Ignoring unknown extended header keyword 'LIBARCHIVE.creationtime'\n",
            "tar: Ignoring unknown extended header keyword 'SCHILY.dev'\n",
            "tar: Ignoring unknown extended header keyword 'SCHILY.ino'\n",
            "tar: Ignoring unknown extended header keyword 'SCHILY.nlink'\n",
            "tar: Ignoring unknown extended header keyword 'LIBARCHIVE.creationtime'\n",
            "tar: Ignoring unknown extended header keyword 'SCHILY.dev'\n",
            "tar: Ignoring unknown extended header keyword 'SCHILY.ino'\n",
            "tar: Ignoring unknown extended header keyword 'SCHILY.nlink'\n",
            "tar: Ignoring unknown extended header keyword 'SCHILY.dev'\n",
            "tar: Ignoring unknown extended header keyword 'SCHILY.ino'\n",
            "tar: Ignoring unknown extended header keyword 'SCHILY.nlink'\n",
            "tar: Ignoring unknown extended header keyword 'SCHILY.dev'\n",
            "tar: Ignoring unknown extended header keyword 'SCHILY.ino'\n",
            "tar: Ignoring unknown extended header keyword 'SCHILY.nlink'\n",
            "tar: Ignoring unknown extended header keyword 'SCHILY.dev'\n",
            "tar: Ignoring unknown extended header keyword 'SCHILY.ino'\n",
            "tar: Ignoring unknown extended header keyword 'SCHILY.nlink'\n",
            "tar: Ignoring unknown extended header keyword 'SCHILY.dev'\n",
            "tar: Ignoring unknown extended header keyword 'SCHILY.ino'\n",
            "tar: Ignoring unknown extended header keyword 'SCHILY.nlink'\n",
            "tar: Ignoring unknown extended header keyword 'SCHILY.dev'\n",
            "tar: Ignoring unknown extended header keyword 'SCHILY.ino'\n",
            "tar: Ignoring unknown extended header keyword 'SCHILY.nlink'\n",
            "tar: Ignoring unknown extended header keyword 'SCHILY.dev'\n",
            "tar: Ignoring unknown extended header keyword 'SCHILY.ino'\n",
            "tar: Ignoring unknown extended header keyword 'SCHILY.nlink'\n",
            "tar: Ignoring unknown extended header keyword 'SCHILY.dev'\n",
            "tar: Ignoring unknown extended header keyword 'SCHILY.ino'\n",
            "tar: Ignoring unknown extended header keyword 'SCHILY.nlink'\n",
            "tar: Ignoring unknown extended header keyword 'SCHILY.dev'\n",
            "tar: Ignoring unknown extended header keyword 'SCHILY.ino'\n",
            "tar: Ignoring unknown extended header keyword 'SCHILY.nlink'\n",
            "tar: Ignoring unknown extended header keyword 'SCHILY.dev'\n",
            "tar: Ignoring unknown extended header keyword 'SCHILY.ino'\n",
            "tar: Ignoring unknown extended header keyword 'SCHILY.nlink'\n",
            "tar: Ignoring unknown extended header keyword 'SCHILY.dev'\n",
            "tar: Ignoring unknown extended header keyword 'SCHILY.ino'\n",
            "tar: Ignoring unknown extended header keyword 'SCHILY.nlink'\n",
            "tar: Ignoring unknown extended header keyword 'SCHILY.dev'\n",
            "tar: Ignoring unknown extended header keyword 'SCHILY.ino'\n",
            "tar: Ignoring unknown extended header keyword 'SCHILY.nlink'\n",
            "tar: Ignoring unknown extended header keyword 'SCHILY.dev'\n",
            "tar: Ignoring unknown extended header keyword 'SCHILY.ino'\n",
            "tar: Ignoring unknown extended header keyword 'SCHILY.nlink'\n",
            "tar: Ignoring unknown extended header keyword 'SCHILY.dev'\n",
            "tar: Ignoring unknown extended header keyword 'SCHILY.ino'\n",
            "tar: Ignoring unknown extended header keyword 'SCHILY.nlink'\n",
            "tar: Ignoring unknown extended header keyword 'SCHILY.dev'\n",
            "tar: Ignoring unknown extended header keyword 'SCHILY.ino'\n",
            "tar: Ignoring unknown extended header keyword 'SCHILY.nlink'\n",
            "tar: Ignoring unknown extended header keyword 'SCHILY.dev'\n",
            "tar: Ignoring unknown extended header keyword 'SCHILY.ino'\n",
            "tar: Ignoring unknown extended header keyword 'SCHILY.nlink'\n",
            "tar: Ignoring unknown extended header keyword 'SCHILY.dev'\n",
            "tar: Ignoring unknown extended header keyword 'SCHILY.ino'\n",
            "tar: Ignoring unknown extended header keyword 'SCHILY.nlink'\n",
            "tar: Ignoring unknown extended header keyword 'SCHILY.dev'\n",
            "tar: Ignoring unknown extended header keyword 'SCHILY.ino'\n",
            "tar: Ignoring unknown extended header keyword 'SCHILY.nlink'\n",
            "tar: Ignoring unknown extended header keyword 'SCHILY.dev'\n",
            "tar: Ignoring unknown extended header keyword 'SCHILY.ino'\n",
            "tar: Ignoring unknown extended header keyword 'SCHILY.nlink'\n",
            "tar: Ignoring unknown extended header keyword 'SCHILY.dev'\n",
            "tar: Ignoring unknown extended header keyword 'SCHILY.ino'\n",
            "tar: Ignoring unknown extended header keyword 'SCHILY.nlink'\n",
            "tar: Ignoring unknown extended header keyword 'SCHILY.dev'\n",
            "tar: Ignoring unknown extended header keyword 'SCHILY.ino'\n",
            "tar: Ignoring unknown extended header keyword 'SCHILY.nlink'\n",
            "tar: Ignoring unknown extended header keyword 'SCHILY.dev'\n",
            "tar: Ignoring unknown extended header keyword 'SCHILY.ino'\n",
            "tar: Ignoring unknown extended header keyword 'SCHILY.nlink'\n",
            "tar: Ignoring unknown extended header keyword 'SCHILY.dev'\n",
            "tar: Ignoring unknown extended header keyword 'SCHILY.ino'\n",
            "tar: Ignoring unknown extended header keyword 'SCHILY.nlink'\n",
            "tar: Ignoring unknown extended header keyword 'SCHILY.dev'\n",
            "tar: Ignoring unknown extended header keyword 'SCHILY.ino'\n",
            "tar: Ignoring unknown extended header keyword 'SCHILY.nlink'\n",
            "tar: Ignoring unknown extended header keyword 'SCHILY.dev'\n",
            "tar: Ignoring unknown extended header keyword 'SCHILY.ino'\n",
            "tar: Ignoring unknown extended header keyword 'SCHILY.nlink'\n",
            "tar: Ignoring unknown extended header keyword 'SCHILY.dev'\n",
            "tar: Ignoring unknown extended header keyword 'SCHILY.ino'\n",
            "tar: Ignoring unknown extended header keyword 'SCHILY.nlink'\n",
            "  292912  6135083 28453805 ./cbt_all.txt\n"
          ]
        }
      ]
    },
    {
      "cell_type": "code",
      "metadata": {
        "id": "RHHukcMobWyz",
        "colab": {
          "base_uri": "https://localhost:8080/"
        },
        "outputId": "33680130-e6f3-4f4d-d653-59c79a3ab26d"
      },
      "source": [
        "#@title Build a table of word frequency\n",
        "def count_lines(path):\n",
        "  with open(path, 'r') as f:\n",
        "    return sum([1 for _ in f])\n",
        "\n",
        "word_frequency = Counter()\n",
        "filepath = './cbt_all.txt'\n",
        "n_lines = count_lines(filepath)\n",
        "with open(filepath, 'r') as f:\n",
        "  for line in tqdm(f, total=n_lines):\n",
        "    if line.startswith(\"_BOOK_TITLE_\"):\n",
        "      continue\n",
        "    else:\n",
        "      tokens = tokenizer.tokenize(line.rstrip())\n",
        "      for token in tokens:\n",
        "        word_frequency[token] += 1"
      ],
      "execution_count": null,
      "outputs": [
        {
          "output_type": "stream",
          "name": "stderr",
          "text": [
            "100%|██████████| 292912/292912 [02:17<00:00, 2123.07it/s]\n"
          ]
        }
      ]
    },
    {
      "cell_type": "code",
      "metadata": {
        "id": "R2zj_Ow9u4ch"
      },
      "source": [
        "# substitution ranking\n",
        "bert_rank = np.array([i for i in range(len(topk_tokens))])\n",
        "frequency_rank = np.argsort([-word_frequency[token] for token in topk_tokens])\n",
        "avg_rank = np.argsort((bert_rank + frequency_rank) / 2)\n",
        "\n",
        "# sort candidates and except a complex word\n",
        "candidates = [topk_tokens[i] for i in avg_rank if topk_tokens[i] != complex_word]"
      ],
      "execution_count": null,
      "outputs": []
    },
    {
      "cell_type": "code",
      "metadata": {
        "id": "sR1gcnLxwZeC",
        "colab": {
          "base_uri": "https://localhost:8080/"
        },
        "outputId": "ac37ba66-827f-4205-e520-644a429c4472"
      },
      "source": [
        "tokenized_text[masked_idx] = candidates[0]\n",
        "print(\" \".join(tokenized_text))"
      ],
      "execution_count": null,
      "outputs": [
        {
          "output_type": "stream",
          "name": "stdout",
          "text": [
            "[CLS] the man researches about transform [SEP] the man researches about ? [SEP]\n"
          ]
        }
      ]
    },
    {
      "cell_type": "markdown",
      "metadata": {
        "id": "hzOHx9T-QgDV"
      },
      "source": [
        "## References\n",
        "\n",
        "[1] [A Simple BERT-Based Approach for Lexical Simplification\n",
        "](https://arxiv.org/abs/1907.06226)  \n",
        "[2] [huggingface/transformers](https://github.com/huggingface/transformers)\n"
      ]
    },
    {
      "cell_type": "code",
      "source": [
        "›"
      ],
      "metadata": {
        "colab": {
          "base_uri": "https://localhost:8080/",
          "height": 135
        },
        "id": "OO2XpLAtH7Gd",
        "outputId": "3200fbce-7b34-4b41-f64a-f13ee2decc93"
      },
      "execution_count": null,
      "outputs": [
        {
          "output_type": "error",
          "ename": "SyntaxError",
          "evalue": "ignored",
          "traceback": [
            "\u001b[0;36m  File \u001b[0;32m\"<ipython-input-12-c3c772c949fd>\"\u001b[0;36m, line \u001b[0;32m1\u001b[0m\n\u001b[0;31m    ›\u001b[0m\n\u001b[0m    ^\u001b[0m\n\u001b[0;31mSyntaxError\u001b[0m\u001b[0;31m:\u001b[0m invalid character in identifier\n"
          ]
        }
      ]
    }
  ]
}